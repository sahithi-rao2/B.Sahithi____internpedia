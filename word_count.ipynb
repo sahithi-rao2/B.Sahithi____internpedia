{
  "nbformat": 4,
  "nbformat_minor": 0,
  "metadata": {
    "colab": {
      "provenance": [],
      "include_colab_link": true
    },
    "kernelspec": {
      "name": "python3",
      "display_name": "Python 3"
    },
    "language_info": {
      "name": "python"
    }
  },
  "cells": [
    {
      "cell_type": "markdown",
      "metadata": {
        "id": "view-in-github",
        "colab_type": "text"
      },
      "source": [
        "<a href=\"https://colab.research.google.com/github/sahithi-rao2/B.Sahithi____internpedia/blob/main/word_count.ipynb\" target=\"_parent\"><img src=\"https://colab.research.google.com/assets/colab-badge.svg\" alt=\"Open In Colab\"/></a>"
      ]
    },
    {
      "cell_type": "code",
      "execution_count": null,
      "metadata": {
        "id": "FH4bMSK8D4gc"
      },
      "outputs": [],
      "source": [
        "import string\n"
      ]
    },
    {
      "cell_type": "code",
      "source": [
        "def count_words(text):\n",
        "    # Remove punctuation and split the text into words\n",
        "    translator = str.maketrans('', '', string.punctuation)\n",
        "    words = text.translate(translator).split()\n",
        "\n",
        "    # Count the number of words\n",
        "    word_count = len(words)\n",
        "    return word_count"
      ],
      "metadata": {
        "id": "XgJTsEmaGB_o"
      },
      "execution_count": null,
      "outputs": []
    },
    {
      "cell_type": "code",
      "source": [
        "def word_count_tool():\n",
        "    while True:\n",
        "        print(\"\\nWORD COUNT TOOL MENU:\")\n",
        "        print(\"1. Count words from input text\")\n",
        "        print(\"2. Count words from a file\")\n",
        "        print(\"3. Exit\")\n",
        "\n",
        "        choice = input(\"Enter your choice (1/2/3): \")\n",
        "\n",
        "        if choice == '3':\n",
        "            print(\"Exiting...\")\n",
        "            break\n",
        "\n",
        "        if choice == '1':\n",
        "            text = input(\"Enter the text: \")\n",
        "            word_count = count_words(text)\n",
        "            print(\"Word count:\", word_count)\n",
        "\n",
        "        elif choice == '2':\n",
        "            file_name = input(\"Enter the file name: \")\n",
        "            try:\n",
        "                with open(file_name, 'r') as file:\n",
        "                    text = file.read()\n",
        "                    word_count = count_words(text)\n",
        "                    print(\"Word count:\", word_count)\n",
        "            except FileNotFoundError:\n",
        "                print(\"Error: File not found.\")\n",
        "            except IOError:\n",
        "                print(\"Error: Unable to read the file.\")\n",
        "\n",
        "        else:\n",
        "            print(\"Invalid choice! Please choose again.\")\n"
      ],
      "metadata": {
        "id": "WYk1pfMWGhGq"
      },
      "execution_count": null,
      "outputs": []
    },
    {
      "cell_type": "code",
      "source": [
        "def main():\n",
        "    print(\"Welcome to Word Count Tool\")\n",
        "    word_count_tool()\n"
      ],
      "metadata": {
        "id": "levfyjlyGmsW"
      },
      "execution_count": null,
      "outputs": []
    },
    {
      "cell_type": "code",
      "source": [
        "if __name__ == \"__main__\":\n",
        "    main()"
      ],
      "metadata": {
        "colab": {
          "base_uri": "https://localhost:8080/"
        },
        "id": "QBbUHwbGHr1p",
        "outputId": "c7da02a2-440c-4a5c-d56d-8b9d53bd2bc7"
      },
      "execution_count": null,
      "outputs": [
        {
          "output_type": "stream",
          "name": "stdout",
          "text": [
            "Welcome to Word Count Tool\n",
            "\n",
            "WORD COUNT TOOL MENU:\n",
            "1. Count words from input text\n",
            "2. Count words from a file\n",
            "3. Exit\n",
            "Enter your choice (1/2/3): 1\n",
            "Enter the text: keerthi\n",
            "Word count: 1\n",
            "\n",
            "WORD COUNT TOOL MENU:\n",
            "1. Count words from input text\n",
            "2. Count words from a file\n",
            "3. Exit\n",
            "Enter your choice (1/2/3): 2\n",
            "Enter the file name: password_generation\n",
            "Error: File not found.\n",
            "\n",
            "WORD COUNT TOOL MENU:\n",
            "1. Count words from input text\n",
            "2. Count words from a file\n",
            "3. Exit\n",
            "Enter your choice (1/2/3): 3\n",
            "Exiting...\n"
          ]
        }
      ]
    },
    {
      "cell_type": "code",
      "source": [],
      "metadata": {
        "id": "Umvxi2ikHvwi"
      },
      "execution_count": null,
      "outputs": []
    }
  ]
}