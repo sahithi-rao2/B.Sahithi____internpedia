{
  "nbformat": 4,
  "nbformat_minor": 0,
  "metadata": {
    "colab": {
      "provenance": [],
      "include_colab_link": true
    },
    "kernelspec": {
      "name": "python3",
      "display_name": "Python 3"
    },
    "language_info": {
      "name": "python"
    }
  },
  "cells": [
    {
      "cell_type": "markdown",
      "metadata": {
        "id": "view-in-github",
        "colab_type": "text"
      },
      "source": [
        "<a href=\"https://colab.research.google.com/github/sahithi-rao2/B.Sahithi____internpedia/blob/main/Password_Generator.ipynb\" target=\"_parent\"><img src=\"https://colab.research.google.com/assets/colab-badge.svg\" alt=\"Open In Colab\"/></a>"
      ]
    },
    {
      "cell_type": "code",
      "execution_count": null,
      "metadata": {
        "id": "z4CQirA9z0vp"
      },
      "outputs": [],
      "source": [
        "import string\n",
        "import secrets\n",
        "import pyperclip\n",
        "\n",
        "def generate_password(length, complexity):\n",
        "  \"\"\"\n",
        "  Generate a random password with specified length and complexity.\n",
        "\n",
        "  Args:\n",
        "      length (int): The length of the password.\n",
        "      complexity   (str): A string representing the desired complexity of the password.\n",
        "                          'l' for lowercase letters, 'u' for uppercase letters\n",
        "                          'd for digits, 's' for symbols.\n",
        "\n",
        "  Returns:\n",
        "      str:The generated password.\n",
        "  \"\"\"\n",
        "  # Define character sets for each complexity type\n",
        "  lowercase_letters = string.ascii_lowercase\n",
        "  uppercase_letters = string.ascii_uppercase\n",
        "  digits = string.digits\n",
        "  symbols = string.punctuation\n",
        "\n",
        "  # Create a charset based on the specified complexity\n",
        "  charset = \"\"\n",
        "  if 'l' in complexity:\n",
        "    charset += lowercase_letters\n",
        "  if 'u' in complexity:\n",
        "    charset += uppercase_letters\n",
        "  if 'd' in complexity:\n",
        "    charset += digits\n",
        "  if 's' in complexity:\n",
        "    charset += symbols\n",
        "\n",
        "  # Check if valid complexity is provided\n",
        "  if not charset:\n",
        "      print(\"Invalid complexity! Please include at least one of 'l','u','d','s'.\")\n",
        "      return None\n",
        "\n",
        "  #Generate password using secrets for randomness\n",
        "  password = ''.join(secrets.choice(charset) for _ in range(length))\n",
        "  return password\n",
        "\n",
        "def display_welcome():\n",
        "  \"\"\"Display a welcome mesage for the password generator.\"\"\"\n",
        "  print(\"Welcome to password Generator\")\n",
        "\n",
        "def display_farewell():\n",
        "  \"\"\"Display a farewell message for the password generator.\"\"\"\n",
        "  print(\"Thank you for using Password Generator.Goodbye!\")\n",
        "\n",
        "def generate_passwords():\n",
        "  \"\"\"Generate passwords based on user input.\"\"\"\n",
        "  while True:\n",
        "    print(\"\\nPASSWORD GENERATOR MENU:\")\n",
        "    print(\"1. Generate Password \")\n",
        "    print(\"2. Exit\")\n",
        "\n",
        "    # Get user input for choice\n",
        "    choice = input(\"Enter your choice (1/2): \")\n",
        "\n",
        "    if choice == '2':\n",
        "        display_farewell()\n",
        "        break\n",
        "\n",
        "    if choice == '1':\n",
        "      #prompt user for password length and complexity\n",
        "      length = input(\"Enter password length: \")\n",
        "      complexity = input(\"Enter password complexity (1 for lowercase, u for uppercase, d for digits, s for symbols,e.g., lud):\")\n",
        "\n",
        "      try:\n",
        "        #convert length to integer and check if it's positive\n",
        "        length = int(length)\n",
        "        if length <= 0:\n",
        "             raise ValueError\n",
        "      except ValueError:\n",
        "        print(\"Invalid input! Please enter a positive integer for password length.\")\n",
        "        continue\n",
        "\n",
        "      #Check if provided complexity is valid\n",
        "      valid_complexity = set('ludse')\n",
        "      if not set(complexity).issubset(valid_complexity):\n",
        "           print(\"invalid complexity! please include only 'l','u','d','s'.\")\n",
        "           continue\n",
        "\n",
        "      #Generate the password\n",
        "      password = generate_password(length, complexity)\n",
        "      if password:\n",
        "           print(\"Generated Password:\",password)\n",
        "\n",
        "           #Ask user if they want to copy the password to clipboard\n",
        "           copy_to_clipboard = input(\"Do you want to copy the generated password to clipboard? (yes/no): \").lower()\n",
        "           if copy_to_clipboard == 'yes':\n",
        "               pyperclip.copy(password)\n",
        "               print(\"Password copied to clipboard!\")\n",
        "      else:\n",
        "        print(\"Invalid choice! Please choose again.\")\n",
        "\n",
        "def main():\n",
        "  \"\"\"Main function to start the password generator.\"\"\"\n",
        "  display_welcome()\n",
        "  generate_passwords()\n",
        "\n",
        "\n",
        "\n"
      ]
    },
    {
      "cell_type": "code",
      "source": [
        "if __name__ == \"__main__\":\n",
        "    main()"
      ],
      "metadata": {
        "colab": {
          "base_uri": "https://localhost:8080/"
        },
        "id": "-wEoPv52mhRW",
        "outputId": "b0ef43af-b850-4c31-84ca-e15c5bc04f87"
      },
      "execution_count": null,
      "outputs": [
        {
          "output_type": "stream",
          "name": "stdout",
          "text": [
            "Welcome to password Generator\n",
            "\n",
            "PASSWORD GENERATOR MENU:\n",
            "1. Generate Password \n",
            "2. Exit\n",
            "Enter your choice (1/2): 1\n",
            "Enter password length: 7\n",
            "Enter password complexity (1 for lowercase, u for uppercase, d for digits, s for symbols,e.g., lud):lsud\n",
            "Generated Password: <(jM#Ch\n",
            "Do you want to copy the generated password to clipboard? (yes/no): no\n",
            "\n",
            "PASSWORD GENERATOR MENU:\n",
            "1. Generate Password \n",
            "2. Exit\n",
            "Enter your choice (1/2): 2\n",
            "Thank you for using Password Generator.Goodbye!\n"
          ]
        }
      ]
    }
  ]
}