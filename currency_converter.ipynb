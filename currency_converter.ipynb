{
  "nbformat": 4,
  "nbformat_minor": 0,
  "metadata": {
    "colab": {
      "provenance": [],
      "include_colab_link": true
    },
    "kernelspec": {
      "name": "python3",
      "display_name": "Python 3"
    },
    "language_info": {
      "name": "python"
    }
  },
  "cells": [
    {
      "cell_type": "markdown",
      "metadata": {
        "id": "view-in-github",
        "colab_type": "text"
      },
      "source": [
        "<a href=\"https://colab.research.google.com/github/sahithi-rao2/B.Sahithi____internpedia/blob/main/currency_converter.ipynb\" target=\"_parent\"><img src=\"https://colab.research.google.com/assets/colab-badge.svg\" alt=\"Open In Colab\"/></a>"
      ]
    },
    {
      "cell_type": "code",
      "execution_count": null,
      "metadata": {
        "id": "3KFX-iFLAcFk"
      },
      "outputs": [],
      "source": [
        "import requests"
      ]
    },
    {
      "cell_type": "code",
      "source": [
        "# Function to fetch live exchange rates from an API\n",
        "def get_exchange_rates():\n",
        "    try:\n",
        "        # Using ExchangeRate-API (https://www.exchangerate-api.com/) for live exchange rates\n",
        "        url = 'https://api.exchangerate-api.com/v4/latest/USD'\n",
        "        response = requests.get(url)\n",
        "        data = response.json()\n",
        "        rates = data['rates']\n",
        "        return rates\n",
        "    except requests.exceptions.RequestException as e:\n",
        "        print(\"Error fetching exchange rates:\", e)\n",
        "        return None"
      ],
      "metadata": {
        "id": "me23ei5XAhD3"
      },
      "execution_count": null,
      "outputs": []
    },
    {
      "cell_type": "code",
      "source": [
        "# Function to convert currency\n",
        "def convert_currency(amount, source_currency, target_currency, rates):\n",
        "    if source_currency in rates and target_currency in rates:\n",
        "        source_rate = rates[source_currency]\n",
        "        target_rate = rates[target_currency]\n",
        "        converted_amount = amount / source_rate * target_rate\n",
        "        return converted_amount\n",
        "    else:\n",
        "        return None"
      ],
      "metadata": {
        "id": "RF95KGz9AqN7"
      },
      "execution_count": null,
      "outputs": []
    },
    {
      "cell_type": "code",
      "source": [
        "# Function to display the result\n",
        "def display_result(amount, source_currency, target_currency, converted_amount):\n",
        "    print(f\"{amount} {source_currency} is equal to {converted_amount:.2f} {target_currency}\\n\")\n"
      ],
      "metadata": {
        "id": "riw1rSq0AuSK"
      },
      "execution_count": null,
      "outputs": []
    },
    {
      "cell_type": "code",
      "source": [
        "# Main function\n",
        "def main():\n",
        "    print(\"Welcome to the Currency Converter Program!\")\n",
        "\n",
        "    # Fetch exchange rates\n",
        "    rates = get_exchange_rates()\n",
        "    if rates is None:\n",
        "        return\n",
        "\n",
        "    while True:\n",
        "        print(\"Available currencies: USD, EUR, GBP, JPY, CAD, AUD\")\n",
        "        source_currency = input(\"Enter source currency: \").upper()\n",
        "        target_currency = input(\"Enter target currency: \").upper()\n",
        "\n",
        "        if source_currency == target_currency:\n",
        "            print(\"Source and target currencies cannot be the same.\\n\")\n",
        "            continue\n",
        "\n",
        "        if source_currency not in rates or target_currency not in rates:\n",
        "            print(\"Invalid currency selection. Please choose from the available currencies.\\n\")\n",
        "            continue\n",
        "\n",
        "        try:\n",
        "            amount = float(input(\"Enter the amount to convert: \"))\n",
        "        except ValueError:\n",
        "            print(\"Invalid input. Please enter a valid amount.\\n\")\n",
        "            continue\n",
        "\n",
        "        converted_amount = convert_currency(amount, source_currency, target_currency, rates)\n",
        "        if converted_amount is not None:\n",
        "            display_result(amount, source_currency, target_currency, converted_amount)\n",
        "        else:\n",
        "            print(\"Conversion failed. Please try again.\\n\")\n",
        "\n",
        "        choice = input(\"Do you want to perform another conversion? (yes/no): \").lower()\n",
        "        if choice != 'yes':\n",
        "            print(\"Thank you for using the Currency Converter Program. Goodbye!\")\n",
        "            break"
      ],
      "metadata": {
        "id": "cPKJpGghAy8I"
      },
      "execution_count": null,
      "outputs": []
    },
    {
      "cell_type": "code",
      "source": [
        "if __name__ == \"__main__\":\n",
        "    main()"
      ],
      "metadata": {
        "colab": {
          "base_uri": "https://localhost:8080/"
        },
        "id": "jPQstkK_A4h7",
        "outputId": "bc442467-f626-48e3-bdf6-afcbaf90bbc5"
      },
      "execution_count": null,
      "outputs": [
        {
          "output_type": "stream",
          "name": "stdout",
          "text": [
            "Welcome to the Currency Converter Program!\n",
            "Available currencies: USD, EUR, GBP, JPY, CAD, AUD\n",
            "Enter source currency: india\n",
            "Enter target currency: usd\n",
            "Invalid currency selection. Please choose from the available currencies.\n",
            "\n",
            "Available currencies: USD, EUR, GBP, JPY, CAD, AUD\n",
            "Enter source currency: usd\n",
            "Enter target currency: EUR\n",
            "Enter the amount to convert: 50\n",
            "50.0 USD is equal to 46.65 EUR\n",
            "\n",
            "Do you want to perform another conversion? (yes/no): NO\n",
            "Thank you for using the Currency Converter Program. Goodbye!\n"
          ]
        }
      ]
    },
    {
      "cell_type": "code",
      "source": [],
      "metadata": {
        "id": "hH6lC6-MA8i8"
      },
      "execution_count": null,
      "outputs": []
    }
  ]
}